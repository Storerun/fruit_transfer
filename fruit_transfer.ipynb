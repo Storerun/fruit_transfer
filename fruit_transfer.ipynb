{
 "cells": [
  {
   "cell_type": "code",
   "execution_count": 1,
   "id": "99c150b8",
   "metadata": {},
   "outputs": [],
   "source": [
    "basket1=['apple','orange', 'dragonfruit', 'cherry','watermelon','banana','passionfruit','grapes', 'strawberry']\n",
    "basket2=['tangerine','guava','apple','pear','grapes']\n"
   ]
  },
  {
   "cell_type": "code",
   "execution_count": 4,
   "id": "fab3d5c5",
   "metadata": {},
   "outputs": [
    {
     "name": "stdout",
     "output_type": "stream",
     "text": [
      "Basket 1: ['apple', 'orange', 'dragonfruit', 'cherry', 'watermelon', 'banana', 'passionfruit', 'grapes', 'strawberry']\n",
      "Basket 2:['tangerine', 'guava', 'pear']\n"
     ]
    }
   ],
   "source": [
    "# Remove fruits from basket2 that are present in basket1\n",
    "for item in basket1:\n",
    "    if item in basket2:\n",
    "        basket2.remove(item)\n",
    "print('Basket 1: {}'.format(basket1))\n",
    "print('Basket 2: {}'.format(basket2))"
   ]
  },
  {
   "cell_type": "code",
   "execution_count": 5,
   "id": "047737b6",
   "metadata": {},
   "outputs": [
    {
     "name": "stdout",
     "output_type": "stream",
     "text": [
      "Basket 1: ['apple', 'orange', 'dragonfruit', 'cherry', 'watermelon', 'banana']\n",
      "Basket 2: ['tangerine', 'guava', 'pear', 'strawberry', 'grapes', 'passionfruit']\n"
     ]
    }
   ],
   "source": [
    "# Transfer fruits from basket1 to basket2\n",
    "while len(basket1) > len(basket2):\n",
    "    item_to_transfer = basket1.pop()\n",
    "    basket2.append(item_to_transfer)\n",
    "\n",
    "print('Basket 1: {}'.format(basket1))\n",
    "print('Basket 2: {}'.format(basket2))\n",
    "\n"
   ]
  },
  {
   "cell_type": "code",
   "execution_count": null,
   "id": "ec6f2582",
   "metadata": {},
   "outputs": [],
   "source": []
  }
 ],
 "metadata": {
  "kernelspec": {
   "display_name": "Python 3",
   "language": "python",
   "name": "python3"
  },
  "language_info": {
   "codemirror_mode": {
    "name": "ipython",
    "version": 3
   },
   "file_extension": ".py",
   "mimetype": "text/x-python",
   "name": "python",
   "nbconvert_exporter": "python",
   "pygments_lexer": "ipython3",
   "version": "3.8.8"
  }
 },
 "nbformat": 4,
 "nbformat_minor": 5
}
